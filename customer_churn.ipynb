{
 "cells": [
  {
   "cell_type": "markdown",
   "id": "3619b5e1",
   "metadata": {},
   "source": [
    "# Telecom Customer Churn Prediction\t\n",
    "### A Model that will predict whether a customer will churn or not based on some given inputs (features)"
   ]
  },
  {
   "cell_type": "markdown",
   "id": "d857b9bc",
   "metadata": {},
   "source": [
    "## 1. Data Loading\n",
    "Here I am loading data from a csv file through Pandas library."
   ]
  },
  {
   "cell_type": "code",
   "execution_count": 88,
   "id": "cfbc5995",
   "metadata": {},
   "outputs": [],
   "source": [
    "# Import some basic libraries for data science\n",
    "import pandas as pd\n",
    "import numpy as np\n",
    "import seaborn as sb\n",
    "import matplotlib.pyplot as ml\n",
    "from sklearn.model_selection import train_test_split\n",
    "\n"
   ]
  },
  {
   "cell_type": "code",
   "execution_count": 89,
   "id": "9413c780",
   "metadata": {},
   "outputs": [
    {
     "name": "stdout",
     "output_type": "stream",
     "text": [
      "   customerID  gender  SeniorCitizen Partner Dependents  tenure PhoneService     MultipleLines InternetService OnlineSecurity OnlineBackup DeviceProtection TechSupport StreamingTV StreamingMovies        Contract PaperlessBilling              PaymentMethod  MonthlyCharges TotalCharges Churn\n",
      "0  7590-VHVEG  Female              0     Yes         No       1           No  No phone service             DSL             No          Yes               No          No          No              No  Month-to-month              Yes           Electronic check           29.85        29.85    No\n",
      "1  5575-GNVDE    Male              0      No         No      34          Yes                No             DSL            Yes           No              Yes          No          No              No        One year               No               Mailed check           56.95       1889.5    No\n",
      "2  3668-QPYBK    Male              0      No         No       2          Yes                No             DSL            Yes          Yes               No          No          No              No  Month-to-month              Yes               Mailed check           53.85       108.15   Yes\n",
      "3  7795-CFOCW    Male              0      No         No      45           No  No phone service             DSL            Yes           No              Yes         Yes          No              No        One year               No  Bank transfer (automatic)           42.30      1840.75    No\n",
      "4  9237-HQITU  Female              0      No         No       2          Yes                No     Fiber optic             No           No               No          No          No              No  Month-to-month              Yes           Electronic check           70.70       151.65   Yes\n"
     ]
    }
   ],
   "source": [
    "# Loading the CSV dataset into code\n",
    "customer_df = pd.read_csv(\"/Users/haseebsagheer/Documents/Python Learning/Customer-Churn/Datasets/WA_Fn-UseC_-Telco-Customer-Churn 3.csv\")\n",
    "# Setting the view limit of columns to max\n",
    "pd.set_option('display.max_columns', None)  # Show all columns\n",
    "pd.set_option('display.expand_frame_repr', False)  # Prevent line wrapping\n",
    "\n",
    "# Need to check the header values\n",
    "print(customer_df.head())"
   ]
  },
  {
   "cell_type": "markdown",
   "id": "e20c0e7a",
   "metadata": {},
   "source": [
    "## 2. Data Understanding\n",
    "Understanding the data through some useful funtions in Python, so i can get a quick overview of data such as describe(), info() etc."
   ]
  },
  {
   "cell_type": "code",
   "execution_count": 90,
   "id": "5be70e63",
   "metadata": {},
   "outputs": [
    {
     "data": {
      "text/plain": [
       "(7043, 21)"
      ]
     },
     "execution_count": 90,
     "metadata": {},
     "output_type": "execute_result"
    }
   ],
   "source": [
    "customer_df.shape"
   ]
  },
  {
   "cell_type": "code",
   "execution_count": 91,
   "id": "c0c89a9e",
   "metadata": {},
   "outputs": [
    {
     "data": {
      "text/plain": [
       "Index(['customerID', 'gender', 'SeniorCitizen', 'Partner', 'Dependents',\n",
       "       'tenure', 'PhoneService', 'MultipleLines', 'InternetService',\n",
       "       'OnlineSecurity', 'OnlineBackup', 'DeviceProtection', 'TechSupport',\n",
       "       'StreamingTV', 'StreamingMovies', 'Contract', 'PaperlessBilling',\n",
       "       'PaymentMethod', 'MonthlyCharges', 'TotalCharges', 'Churn'],\n",
       "      dtype='object')"
      ]
     },
     "execution_count": 91,
     "metadata": {},
     "output_type": "execute_result"
    }
   ],
   "source": [
    "customer_df.columns"
   ]
  },
  {
   "cell_type": "code",
   "execution_count": 92,
   "id": "736f23d9",
   "metadata": {},
   "outputs": [
    {
     "data": {
      "text/html": [
       "<div>\n",
       "<style scoped>\n",
       "    .dataframe tbody tr th:only-of-type {\n",
       "        vertical-align: middle;\n",
       "    }\n",
       "\n",
       "    .dataframe tbody tr th {\n",
       "        vertical-align: top;\n",
       "    }\n",
       "\n",
       "    .dataframe thead th {\n",
       "        text-align: right;\n",
       "    }\n",
       "</style>\n",
       "<table border=\"1\" class=\"dataframe\">\n",
       "  <thead>\n",
       "    <tr style=\"text-align: right;\">\n",
       "      <th></th>\n",
       "      <th>customerID</th>\n",
       "      <th>gender</th>\n",
       "      <th>SeniorCitizen</th>\n",
       "      <th>Partner</th>\n",
       "      <th>Dependents</th>\n",
       "      <th>tenure</th>\n",
       "      <th>PhoneService</th>\n",
       "      <th>MultipleLines</th>\n",
       "      <th>InternetService</th>\n",
       "      <th>OnlineSecurity</th>\n",
       "      <th>OnlineBackup</th>\n",
       "      <th>DeviceProtection</th>\n",
       "      <th>TechSupport</th>\n",
       "      <th>StreamingTV</th>\n",
       "      <th>StreamingMovies</th>\n",
       "      <th>Contract</th>\n",
       "      <th>PaperlessBilling</th>\n",
       "      <th>PaymentMethod</th>\n",
       "      <th>MonthlyCharges</th>\n",
       "      <th>TotalCharges</th>\n",
       "      <th>Churn</th>\n",
       "    </tr>\n",
       "  </thead>\n",
       "  <tbody>\n",
       "    <tr>\n",
       "      <th>0</th>\n",
       "      <td>7590-VHVEG</td>\n",
       "      <td>Female</td>\n",
       "      <td>0</td>\n",
       "      <td>Yes</td>\n",
       "      <td>No</td>\n",
       "      <td>1</td>\n",
       "      <td>No</td>\n",
       "      <td>No phone service</td>\n",
       "      <td>DSL</td>\n",
       "      <td>No</td>\n",
       "      <td>Yes</td>\n",
       "      <td>No</td>\n",
       "      <td>No</td>\n",
       "      <td>No</td>\n",
       "      <td>No</td>\n",
       "      <td>Month-to-month</td>\n",
       "      <td>Yes</td>\n",
       "      <td>Electronic check</td>\n",
       "      <td>29.85</td>\n",
       "      <td>29.85</td>\n",
       "      <td>No</td>\n",
       "    </tr>\n",
       "    <tr>\n",
       "      <th>1</th>\n",
       "      <td>5575-GNVDE</td>\n",
       "      <td>Male</td>\n",
       "      <td>0</td>\n",
       "      <td>No</td>\n",
       "      <td>No</td>\n",
       "      <td>34</td>\n",
       "      <td>Yes</td>\n",
       "      <td>No</td>\n",
       "      <td>DSL</td>\n",
       "      <td>Yes</td>\n",
       "      <td>No</td>\n",
       "      <td>Yes</td>\n",
       "      <td>No</td>\n",
       "      <td>No</td>\n",
       "      <td>No</td>\n",
       "      <td>One year</td>\n",
       "      <td>No</td>\n",
       "      <td>Mailed check</td>\n",
       "      <td>56.95</td>\n",
       "      <td>1889.5</td>\n",
       "      <td>No</td>\n",
       "    </tr>\n",
       "    <tr>\n",
       "      <th>2</th>\n",
       "      <td>3668-QPYBK</td>\n",
       "      <td>Male</td>\n",
       "      <td>0</td>\n",
       "      <td>No</td>\n",
       "      <td>No</td>\n",
       "      <td>2</td>\n",
       "      <td>Yes</td>\n",
       "      <td>No</td>\n",
       "      <td>DSL</td>\n",
       "      <td>Yes</td>\n",
       "      <td>Yes</td>\n",
       "      <td>No</td>\n",
       "      <td>No</td>\n",
       "      <td>No</td>\n",
       "      <td>No</td>\n",
       "      <td>Month-to-month</td>\n",
       "      <td>Yes</td>\n",
       "      <td>Mailed check</td>\n",
       "      <td>53.85</td>\n",
       "      <td>108.15</td>\n",
       "      <td>Yes</td>\n",
       "    </tr>\n",
       "    <tr>\n",
       "      <th>3</th>\n",
       "      <td>7795-CFOCW</td>\n",
       "      <td>Male</td>\n",
       "      <td>0</td>\n",
       "      <td>No</td>\n",
       "      <td>No</td>\n",
       "      <td>45</td>\n",
       "      <td>No</td>\n",
       "      <td>No phone service</td>\n",
       "      <td>DSL</td>\n",
       "      <td>Yes</td>\n",
       "      <td>No</td>\n",
       "      <td>Yes</td>\n",
       "      <td>Yes</td>\n",
       "      <td>No</td>\n",
       "      <td>No</td>\n",
       "      <td>One year</td>\n",
       "      <td>No</td>\n",
       "      <td>Bank transfer (automatic)</td>\n",
       "      <td>42.30</td>\n",
       "      <td>1840.75</td>\n",
       "      <td>No</td>\n",
       "    </tr>\n",
       "    <tr>\n",
       "      <th>4</th>\n",
       "      <td>9237-HQITU</td>\n",
       "      <td>Female</td>\n",
       "      <td>0</td>\n",
       "      <td>No</td>\n",
       "      <td>No</td>\n",
       "      <td>2</td>\n",
       "      <td>Yes</td>\n",
       "      <td>No</td>\n",
       "      <td>Fiber optic</td>\n",
       "      <td>No</td>\n",
       "      <td>No</td>\n",
       "      <td>No</td>\n",
       "      <td>No</td>\n",
       "      <td>No</td>\n",
       "      <td>No</td>\n",
       "      <td>Month-to-month</td>\n",
       "      <td>Yes</td>\n",
       "      <td>Electronic check</td>\n",
       "      <td>70.70</td>\n",
       "      <td>151.65</td>\n",
       "      <td>Yes</td>\n",
       "    </tr>\n",
       "  </tbody>\n",
       "</table>\n",
       "</div>"
      ],
      "text/plain": [
       "   customerID  gender  SeniorCitizen Partner Dependents  tenure PhoneService     MultipleLines InternetService OnlineSecurity OnlineBackup DeviceProtection TechSupport StreamingTV StreamingMovies        Contract PaperlessBilling              PaymentMethod  MonthlyCharges TotalCharges Churn\n",
       "0  7590-VHVEG  Female              0     Yes         No       1           No  No phone service             DSL             No          Yes               No          No          No              No  Month-to-month              Yes           Electronic check           29.85        29.85    No\n",
       "1  5575-GNVDE    Male              0      No         No      34          Yes                No             DSL            Yes           No              Yes          No          No              No        One year               No               Mailed check           56.95       1889.5    No\n",
       "2  3668-QPYBK    Male              0      No         No       2          Yes                No             DSL            Yes          Yes               No          No          No              No  Month-to-month              Yes               Mailed check           53.85       108.15   Yes\n",
       "3  7795-CFOCW    Male              0      No         No      45           No  No phone service             DSL            Yes           No              Yes         Yes          No              No        One year               No  Bank transfer (automatic)           42.30      1840.75    No\n",
       "4  9237-HQITU  Female              0      No         No       2          Yes                No     Fiber optic             No           No               No          No          No              No  Month-to-month              Yes           Electronic check           70.70       151.65   Yes"
      ]
     },
     "execution_count": 92,
     "metadata": {},
     "output_type": "execute_result"
    }
   ],
   "source": [
    "customer_df.head()"
   ]
  },
  {
   "cell_type": "code",
   "execution_count": 93,
   "id": "19fcdcdb",
   "metadata": {},
   "outputs": [
    {
     "name": "stdout",
     "output_type": "stream",
     "text": [
      "<class 'pandas.core.frame.DataFrame'>\n",
      "RangeIndex: 7043 entries, 0 to 7042\n",
      "Data columns (total 21 columns):\n",
      " #   Column            Non-Null Count  Dtype  \n",
      "---  ------            --------------  -----  \n",
      " 0   customerID        7043 non-null   object \n",
      " 1   gender            7043 non-null   object \n",
      " 2   SeniorCitizen     7043 non-null   int64  \n",
      " 3   Partner           7043 non-null   object \n",
      " 4   Dependents        7043 non-null   object \n",
      " 5   tenure            7043 non-null   int64  \n",
      " 6   PhoneService      7043 non-null   object \n",
      " 7   MultipleLines     7043 non-null   object \n",
      " 8   InternetService   7043 non-null   object \n",
      " 9   OnlineSecurity    7043 non-null   object \n",
      " 10  OnlineBackup      7043 non-null   object \n",
      " 11  DeviceProtection  7043 non-null   object \n",
      " 12  TechSupport       7043 non-null   object \n",
      " 13  StreamingTV       7043 non-null   object \n",
      " 14  StreamingMovies   7043 non-null   object \n",
      " 15  Contract          7043 non-null   object \n",
      " 16  PaperlessBilling  7043 non-null   object \n",
      " 17  PaymentMethod     7043 non-null   object \n",
      " 18  MonthlyCharges    7043 non-null   float64\n",
      " 19  TotalCharges      7043 non-null   object \n",
      " 20  Churn             7043 non-null   object \n",
      "dtypes: float64(1), int64(2), object(18)\n",
      "memory usage: 1.1+ MB\n"
     ]
    }
   ],
   "source": [
    "customer_df.info()"
   ]
  },
  {
   "cell_type": "code",
   "execution_count": 94,
   "id": "86432f8f",
   "metadata": {},
   "outputs": [
    {
     "data": {
      "text/html": [
       "<div>\n",
       "<style scoped>\n",
       "    .dataframe tbody tr th:only-of-type {\n",
       "        vertical-align: middle;\n",
       "    }\n",
       "\n",
       "    .dataframe tbody tr th {\n",
       "        vertical-align: top;\n",
       "    }\n",
       "\n",
       "    .dataframe thead th {\n",
       "        text-align: right;\n",
       "    }\n",
       "</style>\n",
       "<table border=\"1\" class=\"dataframe\">\n",
       "  <thead>\n",
       "    <tr style=\"text-align: right;\">\n",
       "      <th></th>\n",
       "      <th>SeniorCitizen</th>\n",
       "      <th>tenure</th>\n",
       "      <th>MonthlyCharges</th>\n",
       "    </tr>\n",
       "  </thead>\n",
       "  <tbody>\n",
       "    <tr>\n",
       "      <th>count</th>\n",
       "      <td>7043.000000</td>\n",
       "      <td>7043.000000</td>\n",
       "      <td>7043.000000</td>\n",
       "    </tr>\n",
       "    <tr>\n",
       "      <th>mean</th>\n",
       "      <td>0.162147</td>\n",
       "      <td>32.371149</td>\n",
       "      <td>64.761692</td>\n",
       "    </tr>\n",
       "    <tr>\n",
       "      <th>std</th>\n",
       "      <td>0.368612</td>\n",
       "      <td>24.559481</td>\n",
       "      <td>30.090047</td>\n",
       "    </tr>\n",
       "    <tr>\n",
       "      <th>min</th>\n",
       "      <td>0.000000</td>\n",
       "      <td>0.000000</td>\n",
       "      <td>18.250000</td>\n",
       "    </tr>\n",
       "    <tr>\n",
       "      <th>25%</th>\n",
       "      <td>0.000000</td>\n",
       "      <td>9.000000</td>\n",
       "      <td>35.500000</td>\n",
       "    </tr>\n",
       "    <tr>\n",
       "      <th>50%</th>\n",
       "      <td>0.000000</td>\n",
       "      <td>29.000000</td>\n",
       "      <td>70.350000</td>\n",
       "    </tr>\n",
       "    <tr>\n",
       "      <th>75%</th>\n",
       "      <td>0.000000</td>\n",
       "      <td>55.000000</td>\n",
       "      <td>89.850000</td>\n",
       "    </tr>\n",
       "    <tr>\n",
       "      <th>max</th>\n",
       "      <td>1.000000</td>\n",
       "      <td>72.000000</td>\n",
       "      <td>118.750000</td>\n",
       "    </tr>\n",
       "  </tbody>\n",
       "</table>\n",
       "</div>"
      ],
      "text/plain": [
       "       SeniorCitizen       tenure  MonthlyCharges\n",
       "count    7043.000000  7043.000000     7043.000000\n",
       "mean        0.162147    32.371149       64.761692\n",
       "std         0.368612    24.559481       30.090047\n",
       "min         0.000000     0.000000       18.250000\n",
       "25%         0.000000     9.000000       35.500000\n",
       "50%         0.000000    29.000000       70.350000\n",
       "75%         0.000000    55.000000       89.850000\n",
       "max         1.000000    72.000000      118.750000"
      ]
     },
     "execution_count": 94,
     "metadata": {},
     "output_type": "execute_result"
    }
   ],
   "source": [
    "customer_df.describe()"
   ]
  },
  {
   "cell_type": "code",
   "execution_count": null,
   "id": "ec0411aa",
   "metadata": {},
   "outputs": [],
   "source": []
  },
  {
   "cell_type": "markdown",
   "id": "eaa66199",
   "metadata": {},
   "source": [
    "## 2.1 Initial Data Visualization\n",
    "Doing some intial visualization between some features and churn"
   ]
  },
  {
   "cell_type": "code",
   "execution_count": 95,
   "id": "d9b1ce1b",
   "metadata": {},
   "outputs": [
    {
     "data": {
      "image/png": "[encoded data removed]",
      "text/plain": [
       "<Figure size 640x480 with 1 Axes>"
      ]
     },
     "metadata": {},
     "output_type": "display_data"
    }
   ],
   "source": [
    "sb.countplot(x=\"Churn\", data=customer_df)\n",
    "ml.title(\"Customer Churn Distribution\")\n",
    "ml.xlabel(\"Churn (Yes / No)\")\n",
    "ml.ylabel(\"Number of Customers\")\n",
    "ml.show()\n"
   ]
  },
  {
   "cell_type": "markdown",
   "id": "9dd79bfc",
   "metadata": {},
   "source": [
    "### 70% of the users have not churned yet, and 30% have already done so."
   ]
  },
  {
   "cell_type": "code",
   "execution_count": 96,
   "id": "ac9f89ff",
   "metadata": {},
   "outputs": [
    {
     "data": {
      "image/png": "[encoded data removed]",
      "text/plain": [
       "<Figure size 640x480 with 1 Axes>"
      ]
     },
     "metadata": {},
     "output_type": "display_data"
    }
   ],
   "source": [
    "sb.countplot(data=customer_df, x=\"gender\", hue=\"Churn\")\n",
    "ml.title(\"Churn by Gender\")\n",
    "ml.xlabel(\"Gender\")\n",
    "ml.ylabel(\"Count\")\n",
    "ml.show()\n"
   ]
  },
  {
   "cell_type": "markdown",
   "id": "131e0c8e",
   "metadata": {},
   "source": [
    "### Outcome \n",
    "1. Customer Churn is not significantly impacted by gender. The number of female customers who churned is very similar to the number of male customers who churned.\n",
    "2. The majority of customers, for both genders, have not churned. The blue bars for both females and males are significantly taller than their corresponding orange bars.\n",
    "3. The total number of male and female customers is nearly equal. The combined height of the \"No\" and \"Yes\" bars for females is very close to the combined height for males."
   ]
  },
  {
   "cell_type": "code",
   "execution_count": 97,
   "id": "f75b2e55",
   "metadata": {},
   "outputs": [
    {
     "data": {
      "text/plain": [
       "Text(0.5, 1.0, 'Churn by Contract Type')"
      ]
     },
     "execution_count": 97,
     "metadata": {},
     "output_type": "execute_result"
    },
    {
     "data": {
      "image/png": "[encoded data removed]",
      "text/plain": [
       "<Figure size 640x480 with 1 Axes>"
      ]
     },
     "metadata": {},
     "output_type": "display_data"
    }
   ],
   "source": [
    "sb.countplot(data=customer_df,x=\"Contract\",hue=\"Churn\")\n",
    "ml.title(\"Churn by Contract Type\")\n"
   ]
  },
  {
   "cell_type": "markdown",
   "id": "2d727352",
   "metadata": {},
   "source": [
    "### Contract type is a strong predictor of churn"
   ]
  },
  {
   "cell_type": "code",
   "execution_count": 98,
   "id": "2f28d317",
   "metadata": {},
   "outputs": [
    {
     "data": {
      "image/png": "[encoded data removed]",
      "text/plain": [
       "<Figure size 640x480 with 1 Axes>"
      ]
     },
     "metadata": {},
     "output_type": "display_data"
    }
   ],
   "source": [
    "sb.boxplot(data=customer_df, x=\"Churn\", y=\"tenure\")\n",
    "ml.title(\"Tenure Distribution by Churn\")\n",
    "ml.xlabel(\"Churn\")\n",
    "ml.ylabel(\"Tenure\")\n",
    "ml.show()\n"
   ]
  },
  {
   "cell_type": "code",
   "execution_count": 99,
   "id": "1088ba28",
   "metadata": {},
   "outputs": [
    {
     "data": {
      "image/png": "[encoded data removed]",
      "text/plain": [
       "<Figure size 640x480 with 1 Axes>"
      ]
     },
     "metadata": {},
     "output_type": "display_data"
    }
   ],
   "source": [
    "sb.barplot(data=customer_df, x=\"Churn\", y=\"tenure\", estimator=\"mean\")\n",
    "ml.title(\"Average Tenure by Churn\")\n",
    "ml.xlabel(\"Churn\")\n",
    "ml.ylabel(\"Average Tenure\")\n",
    "ml.show()\n"
   ]
  },
  {
   "cell_type": "code",
   "execution_count": 129,
   "id": "0676f806",
   "metadata": {},
   "outputs": [
    {
     "name": "stdout",
     "output_type": "stream",
     "text": [
      "Distinct values have been saved to distinct_values.txt\n"
     ]
    }
   ],
   "source": [
    "output_file = \"distinct_values.txt\"\n",
    "\n",
    "# Open the file in write mode\n",
    "with open(output_file, \"w\", encoding=\"utf-8\") as f:\n",
    "    for col in customer_df.columns:\n",
    "        f.write(f\"Column: {col}\\n\")\n",
    "        unique_vals = customer_df[col].unique().tolist()\n",
    "        f.write(f\"{unique_vals}\\n\\n\")  # Write the values\n",
    "        f.write(\"-\" * 50 + \"\\n\\n\")     # Separator for readability\n",
    "\n",
    "print(f\"Distinct values have been saved to {output_file}\")"
   ]
  },
  {
   "cell_type": "markdown",
   "id": "3b44e65e",
   "metadata": {},
   "source": [
    "## 3. Data Preprocessing (Missing Values, Removing Extra Feature etc)"
   ]
  },
  {
   "cell_type": "code",
   "execution_count": 101,
   "id": "f580ca2c",
   "metadata": {},
   "outputs": [],
   "source": [
    "customer_df.drop(\"customerID\",axis= 1,inplace=True)\n",
    "customer_df.drop(\"gender\",axis = 1, inplace=True)\n"
   ]
  },
  {
   "cell_type": "code",
   "execution_count": 102,
   "id": "8143cce3",
   "metadata": {},
   "outputs": [],
   "source": [
    "customer_df[\"Partner\"].value_counts()\n",
    "def binary_encoding(column):\n",
    "    if column.nunique() != 2:\n",
    "        print(\"Unable to convert to binary\")\n",
    "        return column\n",
    "    mapping = {\"Yes\":1,\"No\":0}\n",
    "    return column.replace(mapping).astype(int)\n"
   ]
  },
  {
   "cell_type": "code",
   "execution_count": 103,
   "id": "a97cd1c7",
   "metadata": {},
   "outputs": [
    {
     "name": "stderr",
     "output_type": "stream",
     "text": [
      "/var/folders/8n/ybp5gv0n715b8994769t9_f00000gn/T/ipykernel_23273/1509126610.py:7: FutureWarning: Downcasting behavior in `replace` is deprecated and will be removed in a future version. To retain the old behavior, explicitly call `result.infer_objects(copy=False)`. To opt-in to the future behavior, set `pd.set_option('future.no_silent_downcasting', True)`\n",
      "  return column.replace(mapping).astype(int)\n",
      "/var/folders/8n/ybp5gv0n715b8994769t9_f00000gn/T/ipykernel_23273/1509126610.py:7: FutureWarning: Downcasting behavior in `replace` is deprecated and will be removed in a future version. To retain the old behavior, explicitly call `result.infer_objects(copy=False)`. To opt-in to the future behavior, set `pd.set_option('future.no_silent_downcasting', True)`\n",
      "  return column.replace(mapping).astype(int)\n",
      "/var/folders/8n/ybp5gv0n715b8994769t9_f00000gn/T/ipykernel_23273/1509126610.py:7: FutureWarning: Downcasting behavior in `replace` is deprecated and will be removed in a future version. To retain the old behavior, explicitly call `result.infer_objects(copy=False)`. To opt-in to the future behavior, set `pd.set_option('future.no_silent_downcasting', True)`\n",
      "  return column.replace(mapping).astype(int)\n",
      "/var/folders/8n/ybp5gv0n715b8994769t9_f00000gn/T/ipykernel_23273/1509126610.py:7: FutureWarning: Downcasting behavior in `replace` is deprecated and will be removed in a future version. To retain the old behavior, explicitly call `result.infer_objects(copy=False)`. To opt-in to the future behavior, set `pd.set_option('future.no_silent_downcasting', True)`\n",
      "  return column.replace(mapping).astype(int)\n",
      "/var/folders/8n/ybp5gv0n715b8994769t9_f00000gn/T/ipykernel_23273/1509126610.py:7: FutureWarning: Downcasting behavior in `replace` is deprecated and will be removed in a future version. To retain the old behavior, explicitly call `result.infer_objects(copy=False)`. To opt-in to the future behavior, set `pd.set_option('future.no_silent_downcasting', True)`\n",
      "  return column.replace(mapping).astype(int)\n"
     ]
    }
   ],
   "source": [
    "customer_df[\"Partner\"] = binary_encoding(customer_df[\"Partner\"])\n",
    "customer_df[\"Dependents\"] = binary_encoding(customer_df[\"Dependents\"])\n",
    "customer_df[\"PhoneService\"] = binary_encoding(customer_df[\"PhoneService\"])\n",
    "customer_df[\"PaperlessBilling\"] = binary_encoding(customer_df[\"PaperlessBilling\"])\n",
    "customer_df[\"Churn\"] = binary_encoding(customer_df[\"Churn\"])\n"
   ]
  },
  {
   "cell_type": "code",
   "execution_count": 104,
   "id": "7de80979",
   "metadata": {},
   "outputs": [
    {
     "data": {
      "text/html": [
       "<div>\n",
       "<style scoped>\n",
       "    .dataframe tbody tr th:only-of-type {\n",
       "        vertical-align: middle;\n",
       "    }\n",
       "\n",
       "    .dataframe tbody tr th {\n",
       "        vertical-align: top;\n",
       "    }\n",
       "\n",
       "    .dataframe thead th {\n",
       "        text-align: right;\n",
       "    }\n",
       "</style>\n",
       "<table border=\"1\" class=\"dataframe\">\n",
       "  <thead>\n",
       "    <tr style=\"text-align: right;\">\n",
       "      <th></th>\n",
       "      <th>SeniorCitizen</th>\n",
       "      <th>Partner</th>\n",
       "      <th>Dependents</th>\n",
       "      <th>tenure</th>\n",
       "      <th>PhoneService</th>\n",
       "      <th>MonthlyCharges</th>\n",
       "      <th>TotalCharges</th>\n",
       "      <th>Churn</th>\n",
       "      <th>MultipleLines_No phone service</th>\n",
       "      <th>MultipleLines_Yes</th>\n",
       "      <th>InternetService_Fiber optic</th>\n",
       "      <th>InternetService_No</th>\n",
       "      <th>OnlineSecurity_No internet service</th>\n",
       "      <th>OnlineSecurity_Yes</th>\n",
       "      <th>OnlineBackup_No internet service</th>\n",
       "      <th>OnlineBackup_Yes</th>\n",
       "      <th>DeviceProtection_No internet service</th>\n",
       "      <th>DeviceProtection_Yes</th>\n",
       "      <th>TechSupport_No internet service</th>\n",
       "      <th>TechSupport_Yes</th>\n",
       "      <th>StreamingTV_No internet service</th>\n",
       "      <th>StreamingTV_Yes</th>\n",
       "      <th>StreamingMovies_No internet service</th>\n",
       "      <th>StreamingMovies_Yes</th>\n",
       "      <th>Contract_One year</th>\n",
       "      <th>Contract_Two year</th>\n",
       "      <th>PaperlessBilling_1</th>\n",
       "      <th>PaymentMethod_Credit card (automatic)</th>\n",
       "      <th>PaymentMethod_Electronic check</th>\n",
       "      <th>PaymentMethod_Mailed check</th>\n",
       "    </tr>\n",
       "  </thead>\n",
       "  <tbody>\n",
       "    <tr>\n",
       "      <th>0</th>\n",
       "      <td>0</td>\n",
       "      <td>1</td>\n",
       "      <td>0</td>\n",
       "      <td>1</td>\n",
       "      <td>0</td>\n",
       "      <td>29.85</td>\n",
       "      <td>29.85</td>\n",
       "      <td>0</td>\n",
       "      <td>True</td>\n",
       "      <td>False</td>\n",
       "      <td>False</td>\n",
       "      <td>False</td>\n",
       "      <td>False</td>\n",
       "      <td>False</td>\n",
       "      <td>False</td>\n",
       "      <td>True</td>\n",
       "      <td>False</td>\n",
       "      <td>False</td>\n",
       "      <td>False</td>\n",
       "      <td>False</td>\n",
       "      <td>False</td>\n",
       "      <td>False</td>\n",
       "      <td>False</td>\n",
       "      <td>False</td>\n",
       "      <td>False</td>\n",
       "      <td>False</td>\n",
       "      <td>True</td>\n",
       "      <td>False</td>\n",
       "      <td>True</td>\n",
       "      <td>False</td>\n",
       "    </tr>\n",
       "    <tr>\n",
       "      <th>1</th>\n",
       "      <td>0</td>\n",
       "      <td>0</td>\n",
       "      <td>0</td>\n",
       "      <td>34</td>\n",
       "      <td>1</td>\n",
       "      <td>56.95</td>\n",
       "      <td>1889.5</td>\n",
       "      <td>0</td>\n",
       "      <td>False</td>\n",
       "      <td>False</td>\n",
       "      <td>False</td>\n",
       "      <td>False</td>\n",
       "      <td>False</td>\n",
       "      <td>True</td>\n",
       "      <td>False</td>\n",
       "      <td>False</td>\n",
       "      <td>False</td>\n",
       "      <td>True</td>\n",
       "      <td>False</td>\n",
       "      <td>False</td>\n",
       "      <td>False</td>\n",
       "      <td>False</td>\n",
       "      <td>False</td>\n",
       "      <td>False</td>\n",
       "      <td>True</td>\n",
       "      <td>False</td>\n",
       "      <td>False</td>\n",
       "      <td>False</td>\n",
       "      <td>False</td>\n",
       "      <td>True</td>\n",
       "    </tr>\n",
       "    <tr>\n",
       "      <th>2</th>\n",
       "      <td>0</td>\n",
       "      <td>0</td>\n",
       "      <td>0</td>\n",
       "      <td>2</td>\n",
       "      <td>1</td>\n",
       "      <td>53.85</td>\n",
       "      <td>108.15</td>\n",
       "      <td>1</td>\n",
       "      <td>False</td>\n",
       "      <td>False</td>\n",
       "      <td>False</td>\n",
       "      <td>False</td>\n",
       "      <td>False</td>\n",
       "      <td>True</td>\n",
       "      <td>False</td>\n",
       "      <td>True</td>\n",
       "      <td>False</td>\n",
       "      <td>False</td>\n",
       "      <td>False</td>\n",
       "      <td>False</td>\n",
       "      <td>False</td>\n",
       "      <td>False</td>\n",
       "      <td>False</td>\n",
       "      <td>False</td>\n",
       "      <td>False</td>\n",
       "      <td>False</td>\n",
       "      <td>True</td>\n",
       "      <td>False</td>\n",
       "      <td>False</td>\n",
       "      <td>True</td>\n",
       "    </tr>\n",
       "    <tr>\n",
       "      <th>3</th>\n",
       "      <td>0</td>\n",
       "      <td>0</td>\n",
       "      <td>0</td>\n",
       "      <td>45</td>\n",
       "      <td>0</td>\n",
       "      <td>42.30</td>\n",
       "      <td>1840.75</td>\n",
       "      <td>0</td>\n",
       "      <td>True</td>\n",
       "      <td>False</td>\n",
       "      <td>False</td>\n",
       "      <td>False</td>\n",
       "      <td>False</td>\n",
       "      <td>True</td>\n",
       "      <td>False</td>\n",
       "      <td>False</td>\n",
       "      <td>False</td>\n",
       "      <td>True</td>\n",
       "      <td>False</td>\n",
       "      <td>True</td>\n",
       "      <td>False</td>\n",
       "      <td>False</td>\n",
       "      <td>False</td>\n",
       "      <td>False</td>\n",
       "      <td>True</td>\n",
       "      <td>False</td>\n",
       "      <td>False</td>\n",
       "      <td>False</td>\n",
       "      <td>False</td>\n",
       "      <td>False</td>\n",
       "    </tr>\n",
       "    <tr>\n",
       "      <th>4</th>\n",
       "      <td>0</td>\n",
       "      <td>0</td>\n",
       "      <td>0</td>\n",
       "      <td>2</td>\n",
       "      <td>1</td>\n",
       "      <td>70.70</td>\n",
       "      <td>151.65</td>\n",
       "      <td>1</td>\n",
       "      <td>False</td>\n",
       "      <td>False</td>\n",
       "      <td>True</td>\n",
       "      <td>False</td>\n",
       "      <td>False</td>\n",
       "      <td>False</td>\n",
       "      <td>False</td>\n",
       "      <td>False</td>\n",
       "      <td>False</td>\n",
       "      <td>False</td>\n",
       "      <td>False</td>\n",
       "      <td>False</td>\n",
       "      <td>False</td>\n",
       "      <td>False</td>\n",
       "      <td>False</td>\n",
       "      <td>False</td>\n",
       "      <td>False</td>\n",
       "      <td>False</td>\n",
       "      <td>True</td>\n",
       "      <td>False</td>\n",
       "      <td>True</td>\n",
       "      <td>False</td>\n",
       "    </tr>\n",
       "  </tbody>\n",
       "</table>\n",
       "</div>"
      ],
      "text/plain": [
       "   SeniorCitizen  Partner  Dependents  tenure  PhoneService  MonthlyCharges TotalCharges  Churn  MultipleLines_No phone service  MultipleLines_Yes  InternetService_Fiber optic  InternetService_No  OnlineSecurity_No internet service  OnlineSecurity_Yes  OnlineBackup_No internet service  OnlineBackup_Yes  DeviceProtection_No internet service  DeviceProtection_Yes  TechSupport_No internet service  TechSupport_Yes  StreamingTV_No internet service  StreamingTV_Yes  StreamingMovies_No internet service  StreamingMovies_Yes  Contract_One year  Contract_Two year  PaperlessBilling_1  PaymentMethod_Credit card (automatic)  PaymentMethod_Electronic check  PaymentMethod_Mailed check\n",
       "0              0        1           0       1             0           29.85        29.85      0                            True              False                        False               False                               False               False                             False              True                                 False                 False                            False            False                            False            False                                False                False              False              False                True                                  False                            True                       False\n",
       "1              0        0           0      34             1           56.95       1889.5      0                           False              False                        False               False                               False                True                             False             False                                 False                  True                            False            False                            False            False                                False                False               True              False               False                                  False                           False                        True\n",
       "2              0        0           0       2             1           53.85       108.15      1                           False              False                        False               False                               False                True                             False              True                                 False                 False                            False            False                            False            False                                False                False              False              False                True                                  False                           False                        True\n",
       "3              0        0           0      45             0           42.30      1840.75      0                            True              False                        False               False                               False                True                             False             False                                 False                  True                            False             True                            False            False                                False                False               True              False               False                                  False                           False                       False\n",
       "4              0        0           0       2             1           70.70       151.65      1                           False              False                         True               False                               False               False                             False             False                                 False                 False                            False            False                            False            False                                False                False              False              False                True                                  False                            True                       False"
      ]
     },
     "execution_count": 104,
     "metadata": {},
     "output_type": "execute_result"
    }
   ],
   "source": [
    "customer_df= pd.get_dummies(data=customer_df,columns=[\"MultipleLines\"],drop_first=True)\n",
    "customer_df = pd.get_dummies(data=customer_df,columns=[\"InternetService\"],drop_first=True)\n",
    "customer_df = pd.get_dummies(data=customer_df,columns=[\"OnlineSecurity\"],drop_first=True)\n",
    "customer_df = pd.get_dummies(data=customer_df,columns=[\"OnlineBackup\"],drop_first=True)\n",
    "customer_df = pd.get_dummies(data=customer_df,columns=[\"DeviceProtection\"],drop_first=True)\n",
    "customer_df = pd.get_dummies(data=customer_df,columns=[\"TechSupport\"],drop_first=True)\n",
    "customer_df = pd.get_dummies(data=customer_df,columns=[\"StreamingTV\"],drop_first=True)\n",
    "customer_df = pd.get_dummies(data=customer_df,columns=[\"StreamingMovies\"],drop_first=True)\n",
    "customer_df = pd.get_dummies(data=customer_df,columns=[\"Contract\"],drop_first=True)\n",
    "customer_df = pd.get_dummies(data=customer_df,columns=[\"PaperlessBilling\"],drop_first=True)\n",
    "customer_df = pd.get_dummies(data=customer_df,columns=[\"PaymentMethod\"],drop_first=True)\n",
    "customer_df.head()\n"
   ]
  },
  {
   "cell_type": "code",
   "execution_count": 105,
   "id": "41828e9e",
   "metadata": {},
   "outputs": [],
   "source": [
    "\n",
    "pd.set_option(\"display.width\",None)\n",
    "pd.set_option(\"display.max_rows\",None)\n",
    "pd.set_option(\"display.max_row\",None)\n",
    "customer_df = customer_df[pd.to_numeric(customer_df[\"TotalCharges\"], errors=\"coerce\").notnull()]\n",
    "customer_df[\"TotalCharges\"] = pd.to_numeric(customer_df[\"TotalCharges\"], errors=\"coerce\")\n",
    "\n",
    "\n"
   ]
  },
  {
   "cell_type": "markdown",
   "id": "7a1cd312",
   "metadata": {},
   "source": [
    "## 4. Modeling Prepration"
   ]
  },
  {
   "cell_type": "code",
   "execution_count": 106,
   "id": "81cfd2ad",
   "metadata": {},
   "outputs": [],
   "source": [
    "X = customer_df.drop(\"Churn\",axis = 1)\n",
    "Y = customer_df[\"Churn\"]"
   ]
  },
  {
   "cell_type": "code",
   "execution_count": 107,
   "id": "f2970661",
   "metadata": {},
   "outputs": [],
   "source": [
    "X_train, X_test,Y_train,y_test = train_test_split(X,Y,test_size=20,stratify=Y,random_state=42)\n"
   ]
  },
  {
   "cell_type": "code",
   "execution_count": 108,
   "id": "43e536f4",
   "metadata": {},
   "outputs": [
    {
     "name": "stdout",
     "output_type": "stream",
     "text": [
      "Churn\n",
      "0    0.734215\n",
      "1    0.265785\n",
      "Name: proportion, dtype: float64\n",
      "Churn\n",
      "0    0.73417\n",
      "1    0.26583\n",
      "Name: proportion, dtype: float64\n",
      "Churn\n",
      "0    0.75\n",
      "1    0.25\n",
      "Name: proportion, dtype: float64\n"
     ]
    }
   ],
   "source": [
    "print(Y.value_counts(normalize=True))        # original distribution\n",
    "print(Y_train.value_counts(normalize=True))  # training set\n",
    "print(Y_test.value_counts(normalize=True))   # test set\n"
   ]
  },
  {
   "cell_type": "markdown",
   "id": "81350b76",
   "metadata": {},
   "source": [
    "## 5. Modeling Training"
   ]
  },
  {
   "cell_type": "code",
   "execution_count": 109,
   "id": "172ad9b4",
   "metadata": {},
   "outputs": [],
   "source": [
    "from sklearn.linear_model import LogisticRegression\n",
    "from sklearn.metrics import accuracy_score, confusion_matrix, classification_report, roc_auc_score, roc_curve\n"
   ]
  },
  {
   "cell_type": "code",
   "execution_count": 110,
   "id": "a159649a",
   "metadata": {},
   "outputs": [
    {
     "name": "stdout",
     "output_type": "stream",
     "text": [
      "Accuracy: 0.8\n",
      "\n",
      "Classification Report:\n",
      "               precision    recall  f1-score   support\n",
      "\n",
      "           0       0.92      0.80      0.86        15\n",
      "           1       0.57      0.80      0.67         5\n",
      "\n",
      "    accuracy                           0.80        20\n",
      "   macro avg       0.75      0.80      0.76        20\n",
      "weighted avg       0.84      0.80      0.81        20\n",
      "\n"
     ]
    },
    {
     "data": {
      "image/png": "[encoded data removed]",
      "text/plain": [
       "<Figure size 640x480 with 2 Axes>"
      ]
     },
     "metadata": {},
     "output_type": "display_data"
    }
   ],
   "source": [
    "model = LogisticRegression(max_iter=1000, solver='liblinear')  # You can try 'lbfgs' too\n",
    "model.fit(X_train, Y_train)\n",
    "y_pred = model.predict(X_test)                       # 0 or 1\n",
    "y_proba = model.predict_proba(X_test)[:, 1]          # Probability of class = 1 (Churn)\n",
    "# Accuracy\n",
    "print(\"Accuracy:\", accuracy_score(y_test, y_pred))\n",
    "\n",
    "# Classification report\n",
    "print(\"\\nClassification Report:\\n\", classification_report(y_test, y_pred))\n",
    "\n",
    "# Confusion Matrix\n",
    "conf_matrix = confusion_matrix(y_test, y_pred)\n",
    "sb.heatmap(conf_matrix, annot=True, fmt='d', cmap='Blues')\n",
    "ml.title(\"Confusion Matrix\")\n",
    "ml.xlabel(\"Predicted\")\n",
    "ml.ylabel(\"Actual\")\n",
    "ml.show()\n",
    "\n"
   ]
  },
  {
   "cell_type": "code",
   "execution_count": 111,
   "id": "75131e09",
   "metadata": {},
   "outputs": [
    {
     "data": {
      "image/png": "[encoded data removed]",
      "text/plain": [
       "<Figure size 600x400 with 1 Axes>"
      ]
     },
     "metadata": {},
     "output_type": "display_data"
    }
   ],
   "source": [
    "fpr, tpr, thresholds = roc_curve(Y_test, y_proba)\n",
    "roc_auc = roc_auc_score(Y_test, y_proba)\n",
    "\n",
    "ml.figure(figsize=(6, 4))\n",
    "ml.plot(fpr, tpr, label=f\"ROC Curve (AUC = {roc_auc:.2f})\")\n",
    "ml.plot([0, 1], [0, 1], linestyle=\"--\", color=\"gray\")\n",
    "ml.xlabel(\"False Positive Rate\")\n",
    "ml.ylabel(\"True Positive Rate\")\n",
    "ml.title(\"Receiver Operating Characteristic (ROC) Curve\")\n",
    "ml.legend(loc=\"lower right\")\n",
    "ml.grid()\n",
    "\n",
    "ml.savefig(\"roc_curve.png\", dpi=300, bbox_inches='tight') \n",
    "ml.show()\n"
   ]
  },
  {
   "cell_type": "markdown",
   "id": "e2b9c21e",
   "metadata": {},
   "source": [
    "## 📊 Model Evaluation Summary (Logistic Regression)\n",
    "\n",
    "Our baseline Logistic Regression model achieved strong performance. Here's a summary of its evaluation:\n",
    "\n",
    "### ✅ Accuracy\n",
    "- **Accuracy:** `0.80`\n",
    "- This means the model correctly predicted churn or no-churn for 80% of the customers.\n",
    "\n",
    "### ✅ Classification Report\n",
    "| Metric     | Class 0 (Not Churned) | Class 1 (Churned) |\n",
    "|------------|------------------------|--------------------|\n",
    "| Precision  | 0.92                   | 0.57               |\n",
    "| Recall     | 0.80                   | 0.80               |\n",
    "| F1-score   | 0.86                   | 0.67               |\n",
    "| Support    | 15                     | 5                  |\n",
    "\n",
    "**Interpretation:**\n",
    "- The model is very good at correctly identifying customers who won’t churn (class 0).\n",
    "- It correctly identifies 80% of actual churners (high **recall**), but with some false positives (lower **precision** for class 1).\n",
    "- Overall, **F1-score of 0.67** for churners is a solid starting point.\n",
    "\n",
    "---\n",
    "\n",
    "### 📈 ROC Curve and AUC Score\n",
    "\n",
    "The ROC (Receiver Operating Characteristic) curve helps us understand how well the model separates churn vs. non-churn across all thresholds.\n",
    "\n",
    "- **AUC (Area Under Curve):** `0.84`\n",
    "- This means there's an **84% chance** the model ranks a random churner higher than a non-churner.\n",
    "\n",
    "<img src=\"roc_curve.png\" alt=\"ROC Curve\" width=\"400\"/>\n",
    "\n",
    "\n",
    "**Conclusion:**  \n",
    "The steep rise in the ROC curve and the high AUC score demonstrate that our model is capable of distinguishing between churn and non-churn customers effectively.\n",
    "\n",
    "---\n",
    "\n"
   ]
  },
  {
   "cell_type": "markdown",
   "id": "a574b26f",
   "metadata": {},
   "source": [
    "## 🌲 Random Forest Classifier - Model Training\n",
    "\n",
    "Random Forest is an ensemble method that builds multiple decision trees and combines their outputs to improve predictive performance and reduce overfitting.\n",
    "\n",
    "In this step, we:\n",
    "\n",
    "- Trained a Random Forest model using the processed churn dataset\n",
    "- Used `X_train` and `y_train` to fit the model\n",
    "- Will evaluate performance on `X_test` and `y_test` using accuracy, precision, recall, F1-score, and AUC\n",
    "\n",
    "Benefits of Random Forest:\n",
    "- Handles non-linear relationships well\n",
    "- Automatically manages feature interactions\n",
    "- Less sensitive to outliers and noise\n"
   ]
  },
  {
   "cell_type": "markdown",
   "id": "660ca044",
   "metadata": {},
   "source": [
    "## 🔧 Random Forest Tuning - First Attempt\n",
    "\n",
    "We tuned the following hyperparameters:\n",
    "\n",
    "- `n_estimators=200`: More trees for better generalization\n",
    "- `max_depth=8`: Prevents overly deep trees and overfitting\n",
    "- `min_samples_split=5` and `min_samples_leaf=2`: Smoother splits\n",
    "- `class_weight='balanced'`: Handles class imbalance for better recall\n",
    "\n",
    "This configuration aims to improve prediction of minority class (churners).\n"
   ]
  },
  {
   "cell_type": "code",
   "execution_count": 112,
   "id": "b912dfa9",
   "metadata": {},
   "outputs": [
    {
     "name": "stdout",
     "output_type": "stream",
     "text": [
      "Confusion Matrix:\n",
      "[[11  4]\n",
      " [ 0  5]]\n",
      "\n",
      "Classification Report:\n",
      "              precision    recall  f1-score   support\n",
      "\n",
      "           0       1.00      0.73      0.85        15\n",
      "           1       0.56      1.00      0.71         5\n",
      "\n",
      "    accuracy                           0.80        20\n",
      "   macro avg       0.78      0.87      0.78        20\n",
      "weighted avg       0.89      0.80      0.81        20\n",
      "\n"
     ]
    },
    {
     "data": {
      "image/png": "[encoded data removed]",
      "text/plain": [
       "<Figure size 640x480 with 1 Axes>"
      ]
     },
     "metadata": {},
     "output_type": "display_data"
    }
   ],
   "source": [
    "from sklearn.ensemble import RandomForestClassifier\n",
    "# 1. Initialize the model\n",
    "rf_model = RandomForestClassifier(\n",
    "    n_estimators=200,\n",
    "    max_depth=8,\n",
    "    min_samples_split=5,\n",
    "    min_samples_leaf=2,\n",
    "    class_weight='balanced',\n",
    "    random_state=42\n",
    ")\n",
    "\n",
    "\n",
    "# 2. Train the model\n",
    "rf_model.fit(X_train, Y_train)\n",
    "\n",
    "# 3. Predict\n",
    "y_pred = rf_model.predict(X_test)\n",
    "y_prob = rf_model.predict_proba(X_test)[:, 1]  # for ROC AUC\n",
    "\n",
    "# 4. Evaluate\n",
    "print(\"Confusion Matrix:\")\n",
    "print(confusion_matrix(Y_test, y_pred))\n",
    "print(\"\\nClassification Report:\")\n",
    "print(classification_report(Y_test, y_pred))\n",
    "\n",
    "# 5. ROC Curve\n",
    "fpr, tpr, _ = roc_curve(Y_test, y_prob)\n",
    "auc_score = roc_auc_score(Y_test, y_prob)\n",
    "\n",
    "ml.plot(fpr, tpr, label=f\"Random Forest (AUC = {auc_score:.2f})\")\n",
    "ml.plot([0, 1], [0, 1], linestyle=\"--\", color=\"gray\")\n",
    "ml.xlabel(\"False Positive Rate\")\n",
    "ml.ylabel(\"True Positive Rate\")\n",
    "ml.title(\"ROC Curve - Random Forest Classifier\")\n",
    "ml.legend()\n",
    "ml.grid()\n",
    "ml.savefig(\"random_forest_roc.png\", dpi=300, bbox_inches='tight')\n",
    "ml.show()"
   ]
  },
  {
   "cell_type": "code",
   "execution_count": 113,
   "id": "952b7b3d",
   "metadata": {},
   "outputs": [
    {
     "data": {
      "image/png": "[encoded data removed]",
      "text/plain": [
       "<Figure size 1000x800 with 1 Axes>"
      ]
     },
     "metadata": {},
     "output_type": "display_data"
    }
   ],
   "source": [
    "# 1. Extract feature importances\n",
    "importances = rf_model.feature_importances_\n",
    "\n",
    "# 2. Match them to column names\n",
    "features = X_train.columns\n",
    "\n",
    "# 3. Create a DataFrame for easy sorting and plotting\n",
    "importance_df = pd.DataFrame({\n",
    "    'Feature': features,\n",
    "    'Importance': importances\n",
    "}).sort_values(by=\"Importance\", ascending=True)\n",
    "\n",
    "# 4. Plot it\n",
    "import matplotlib.pyplot as plt\n",
    "\n",
    "ml.figure(figsize=(10, 8))\n",
    "ml.barh(importance_df['Feature'], importance_df['Importance'])\n",
    "ml.xlabel(\"Feature Importance Score\")\n",
    "ml.title(\"Random Forest Feature Importance\")\n",
    "ml.grid(True)\n",
    "ml.tight_layout()\n",
    "ml.savefig(\"rf_feature_importance.png\", dpi=300)\n",
    "ml.show()\n"
   ]
  },
  {
   "cell_type": "markdown",
   "id": "2f319e05",
   "metadata": {},
   "source": [
    "### 🔍 Feature Importance – Random Forest\n",
    "\n",
    "We used Random Forest's built-in feature importance to identify the top drivers of churn:\n",
    "\n",
    "- **tenure**: Most powerful predictor — new customers are more likely to leave\n",
    "- **TotalCharges**: Low-spending customers tend to churn\n",
    "- **Contract_Two year**: Long-term contracts reduce churn probability\n",
    "- **InternetService_Fiber optic**: May be linked with dissatisfaction or cost\n",
    "- **MonthlyCharges**: High bills could trigger churn\n",
    "\n",
    "Features with very low importance (like `PhoneService`, `MultipleLines`, `StreamingTV_Yes`) had minimal predictive power.\n",
    "\n",
    "These insights help the business understand customer behavior and can guide **retention strategies**.\n"
   ]
  },
  {
   "cell_type": "markdown",
   "id": "43c7b1a8",
   "metadata": {},
   "source": [
    "# 📦 Project Wrap-Up: Telco Customer Churn Prediction\n",
    "\n",
    "After spending considerable time on this project, I’m wrapping it up with a deep understanding of not just the model outputs, but also **how and why** customers churn. This was more than just a machine learning exercise — it was a complete data science lifecycle experience, from raw data to insights and action.\n",
    "\n",
    "---\n",
    "\n",
    "## ✅ What I Did\n",
    "\n",
    "🔹 I started by exploring the **Telco Customer Churn dataset** from Kaggle.  \n",
    "🔹 The dataset had no missing/null values — however, `TotalCharges` had some values as strings, so I cleaned and converted it to numeric.\n",
    "\n",
    "🔹 I then did **extensive preprocessing**:\n",
    "- Binary encoded `Yes/No` columns\n",
    "- Applied **One-Hot Encoding** to multi-class categorical features\n",
    "- Dropped irrelevant features like `customerID` and `gender` based on insight and balance\n",
    "\n",
    "🔹 I visualized churn distribution using **Seaborn**:\n",
    "- Compared churn by gender, contract type, payment method, and more\n",
    "- Learned valuable business-level insights from visualizations before modeling\n",
    "\n",
    "---\n",
    "\n",
    "## 🧠 Modeling Journey\n",
    "\n",
    "I trained two models:\n",
    "\n",
    "### 1. **Logistic Regression**:\n",
    "- Simple, interpretable, and great as a baseline\n",
    "- Achieved **80% accuracy**, with decent precision and recall\n",
    "- Created an ROC curve to evaluate classification performance (AUC = 0.84)\n",
    "\n",
    "### 2. **Random Forest Classifier**:\n",
    "- A more complex ensemble model\n",
    "- After tuning, also achieved **80% accuracy**\n",
    "- AUC score slightly improved to **0.84**\n",
    "- Gave me a ranked list of **feature importances**, which was a goldmine of insight\n",
    "\n",
    "---\n",
    "\n",
    "## 💡 Key Takeaways\n",
    "\n",
    "- **Tenure** was the top predictor of churn: newer customers are more likely to leave.\n",
    "- Customers on **long-term contracts** tend to stay.\n",
    "- High **monthly charges** and **low total charges** indicate a higher churn risk.\n",
    "- Not all features matter: I found that columns like `PhoneService`, `MultipleLines`, and some streaming service flags had minimal impact.\n",
    "\n",
    "---\n",
    "\n",
    "## 📊 Final Thoughts\n",
    "\n",
    "This wasn’t just about model accuracy — it was about understanding **why** customers leave, **what drives loyalty**, and **how a company could act** on this data.\n",
    "\n",
    "I now feel confident in:\n",
    "- End-to-end data preparation\n",
    "- Feature encoding strategies\n",
    "- Model selection and evaluation\n",
    "- Visual storytelling for business stakeholders\n",
    "\n",
    "---\n",
    "\n",
    "I plan to revisit this project later and possibly:\n",
    "- Add **SHAP explanations** for per-customer churn drivers\n",
    "- Integrate with a web dashboard for interactive insights\n",
    "- Try **XGBoost** or **Neural Networks** for further optimization\n",
    "\n",
    "Thanks for following my journey — and more projects are on the way! 🚀  \n"
   ]
  },
  {
   "cell_type": "code",
   "execution_count": null,
   "id": "f246ef46",
   "metadata": {},
   "outputs": [],
   "source": []
  },
  {
   "cell_type": "code",
   "execution_count": 114,
   "id": "dcb66cab",
   "metadata": {},
   "outputs": [],
   "source": [
    "import nbformat\n",
    "from nbconvert import HTMLExporter\n",
    "from traitlets.config import Config"
   ]
  },
  {
   "cell_type": "code",
   "execution_count": 115,
   "id": "6ee524e3",
   "metadata": {},
   "outputs": [
    {
     "name": "stdout",
     "output_type": "stream",
     "text": [
      "Done -> YourNotebook.html\n"
     ]
    }
   ],
   "source": [
    "nb = nbformat.read(\"customer_churn.ipynb\", as_version=4)\n",
    "\n",
    "c = Config()\n",
    "# Keep code + markdown + outputs\n",
    "c.HTMLExporter.exclude_input = False\n",
    "c.HTMLExporter.exclude_output = False\n",
    "\n",
    "exporter = HTMLExporter(config=c)\n",
    "body, _ = exporter.from_notebook_node(nb)\n",
    "\n",
    "with open(\"customer_churn.html\", \"w\", encoding=\"utf-8\") as f:\n",
    "    f.write(body)\n",
    "\n",
    "print(\"Done -> YourNotebook.html\")"
   ]
  },
  {
   "cell_type": "markdown",
   "id": "a1c9a2ce",
   "metadata": {},
   "source": [
    "### Deployment\n",
    "I will use joblib library for exporting my trained model as .joblib file so later i can access it and use it. I will use FastAPI for making it and further"
   ]
  },
  {
   "cell_type": "code",
   "execution_count": 116,
   "id": "9d9e7ecb",
   "metadata": {},
   "outputs": [
    {
     "data": {
      "text/html": [
       "<div>\n",
       "<style scoped>\n",
       "    .dataframe tbody tr th:only-of-type {\n",
       "        vertical-align: middle;\n",
       "    }\n",
       "\n",
       "    .dataframe tbody tr th {\n",
       "        vertical-align: top;\n",
       "    }\n",
       "\n",
       "    .dataframe thead th {\n",
       "        text-align: right;\n",
       "    }\n",
       "</style>\n",
       "<table border=\"1\" class=\"dataframe\">\n",
       "  <thead>\n",
       "    <tr style=\"text-align: right;\">\n",
       "      <th></th>\n",
       "      <th>SeniorCitizen</th>\n",
       "      <th>Partner</th>\n",
       "      <th>Dependents</th>\n",
       "      <th>tenure</th>\n",
       "      <th>PhoneService</th>\n",
       "      <th>MonthlyCharges</th>\n",
       "      <th>TotalCharges</th>\n",
       "      <th>MultipleLines_No phone service</th>\n",
       "      <th>MultipleLines_Yes</th>\n",
       "      <th>InternetService_Fiber optic</th>\n",
       "      <th>InternetService_No</th>\n",
       "      <th>OnlineSecurity_No internet service</th>\n",
       "      <th>OnlineSecurity_Yes</th>\n",
       "      <th>OnlineBackup_No internet service</th>\n",
       "      <th>OnlineBackup_Yes</th>\n",
       "      <th>DeviceProtection_No internet service</th>\n",
       "      <th>DeviceProtection_Yes</th>\n",
       "      <th>TechSupport_No internet service</th>\n",
       "      <th>TechSupport_Yes</th>\n",
       "      <th>StreamingTV_No internet service</th>\n",
       "      <th>StreamingTV_Yes</th>\n",
       "      <th>StreamingMovies_No internet service</th>\n",
       "      <th>StreamingMovies_Yes</th>\n",
       "      <th>Contract_One year</th>\n",
       "      <th>Contract_Two year</th>\n",
       "      <th>PaperlessBilling_1</th>\n",
       "      <th>PaymentMethod_Credit card (automatic)</th>\n",
       "      <th>PaymentMethod_Electronic check</th>\n",
       "      <th>PaymentMethod_Mailed check</th>\n",
       "    </tr>\n",
       "  </thead>\n",
       "  <tbody>\n",
       "    <tr>\n",
       "      <th>1133</th>\n",
       "      <td>0</td>\n",
       "      <td>0</td>\n",
       "      <td>1</td>\n",
       "      <td>2</td>\n",
       "      <td>1</td>\n",
       "      <td>19.25</td>\n",
       "      <td>48.35</td>\n",
       "      <td>False</td>\n",
       "      <td>False</td>\n",
       "      <td>False</td>\n",
       "      <td>True</td>\n",
       "      <td>True</td>\n",
       "      <td>False</td>\n",
       "      <td>True</td>\n",
       "      <td>False</td>\n",
       "      <td>True</td>\n",
       "      <td>False</td>\n",
       "      <td>True</td>\n",
       "      <td>False</td>\n",
       "      <td>True</td>\n",
       "      <td>False</td>\n",
       "      <td>True</td>\n",
       "      <td>False</td>\n",
       "      <td>False</td>\n",
       "      <td>False</td>\n",
       "      <td>False</td>\n",
       "      <td>False</td>\n",
       "      <td>False</td>\n",
       "      <td>True</td>\n",
       "    </tr>\n",
       "    <tr>\n",
       "      <th>6755</th>\n",
       "      <td>0</td>\n",
       "      <td>0</td>\n",
       "      <td>0</td>\n",
       "      <td>42</td>\n",
       "      <td>1</td>\n",
       "      <td>79.90</td>\n",
       "      <td>3313.40</td>\n",
       "      <td>False</td>\n",
       "      <td>True</td>\n",
       "      <td>True</td>\n",
       "      <td>False</td>\n",
       "      <td>False</td>\n",
       "      <td>False</td>\n",
       "      <td>False</td>\n",
       "      <td>False</td>\n",
       "      <td>False</td>\n",
       "      <td>True</td>\n",
       "      <td>False</td>\n",
       "      <td>False</td>\n",
       "      <td>False</td>\n",
       "      <td>False</td>\n",
       "      <td>False</td>\n",
       "      <td>False</td>\n",
       "      <td>False</td>\n",
       "      <td>False</td>\n",
       "      <td>False</td>\n",
       "      <td>False</td>\n",
       "      <td>True</td>\n",
       "      <td>False</td>\n",
       "    </tr>\n",
       "    <tr>\n",
       "      <th>3739</th>\n",
       "      <td>0</td>\n",
       "      <td>0</td>\n",
       "      <td>0</td>\n",
       "      <td>24</td>\n",
       "      <td>1</td>\n",
       "      <td>24.60</td>\n",
       "      <td>592.65</td>\n",
       "      <td>False</td>\n",
       "      <td>True</td>\n",
       "      <td>False</td>\n",
       "      <td>True</td>\n",
       "      <td>True</td>\n",
       "      <td>False</td>\n",
       "      <td>True</td>\n",
       "      <td>False</td>\n",
       "      <td>True</td>\n",
       "      <td>False</td>\n",
       "      <td>True</td>\n",
       "      <td>False</td>\n",
       "      <td>True</td>\n",
       "      <td>False</td>\n",
       "      <td>True</td>\n",
       "      <td>False</td>\n",
       "      <td>True</td>\n",
       "      <td>False</td>\n",
       "      <td>False</td>\n",
       "      <td>False</td>\n",
       "      <td>True</td>\n",
       "      <td>False</td>\n",
       "    </tr>\n",
       "    <tr>\n",
       "      <th>2807</th>\n",
       "      <td>0</td>\n",
       "      <td>0</td>\n",
       "      <td>1</td>\n",
       "      <td>7</td>\n",
       "      <td>1</td>\n",
       "      <td>19.45</td>\n",
       "      <td>136.75</td>\n",
       "      <td>False</td>\n",
       "      <td>False</td>\n",
       "      <td>False</td>\n",
       "      <td>True</td>\n",
       "      <td>True</td>\n",
       "      <td>False</td>\n",
       "      <td>True</td>\n",
       "      <td>False</td>\n",
       "      <td>True</td>\n",
       "      <td>False</td>\n",
       "      <td>True</td>\n",
       "      <td>False</td>\n",
       "      <td>True</td>\n",
       "      <td>False</td>\n",
       "      <td>True</td>\n",
       "      <td>False</td>\n",
       "      <td>True</td>\n",
       "      <td>False</td>\n",
       "      <td>False</td>\n",
       "      <td>False</td>\n",
       "      <td>False</td>\n",
       "      <td>True</td>\n",
       "    </tr>\n",
       "    <tr>\n",
       "      <th>4260</th>\n",
       "      <td>0</td>\n",
       "      <td>1</td>\n",
       "      <td>1</td>\n",
       "      <td>42</td>\n",
       "      <td>1</td>\n",
       "      <td>73.15</td>\n",
       "      <td>3088.25</td>\n",
       "      <td>False</td>\n",
       "      <td>False</td>\n",
       "      <td>False</td>\n",
       "      <td>False</td>\n",
       "      <td>False</td>\n",
       "      <td>False</td>\n",
       "      <td>False</td>\n",
       "      <td>False</td>\n",
       "      <td>False</td>\n",
       "      <td>True</td>\n",
       "      <td>False</td>\n",
       "      <td>True</td>\n",
       "      <td>False</td>\n",
       "      <td>True</td>\n",
       "      <td>False</td>\n",
       "      <td>True</td>\n",
       "      <td>True</td>\n",
       "      <td>False</td>\n",
       "      <td>False</td>\n",
       "      <td>False</td>\n",
       "      <td>True</td>\n",
       "      <td>False</td>\n",
       "    </tr>\n",
       "  </tbody>\n",
       "</table>\n",
       "</div>"
      ],
      "text/plain": [
       "      SeniorCitizen  Partner  Dependents  tenure  PhoneService  MonthlyCharges  TotalCharges  MultipleLines_No phone service  MultipleLines_Yes  InternetService_Fiber optic  InternetService_No  OnlineSecurity_No internet service  OnlineSecurity_Yes  OnlineBackup_No internet service  OnlineBackup_Yes  DeviceProtection_No internet service  DeviceProtection_Yes  TechSupport_No internet service  TechSupport_Yes  StreamingTV_No internet service  StreamingTV_Yes  StreamingMovies_No internet service  StreamingMovies_Yes  Contract_One year  Contract_Two year  PaperlessBilling_1  PaymentMethod_Credit card (automatic)  PaymentMethod_Electronic check  PaymentMethod_Mailed check\n",
       "1133              0        0           1       2             1           19.25         48.35                           False              False                        False                True                                True               False                              True             False                                  True                 False                             True            False                             True            False                                 True                False              False              False               False                                  False                           False                        True\n",
       "6755              0        0           0      42             1           79.90       3313.40                           False               True                         True               False                               False               False                             False             False                                 False                  True                            False            False                            False            False                                False                False              False              False               False                                  False                            True                       False\n",
       "3739              0        0           0      24             1           24.60        592.65                           False               True                        False                True                                True               False                              True             False                                  True                 False                             True            False                             True            False                                 True                False               True              False               False                                  False                            True                       False\n",
       "2807              0        0           1       7             1           19.45        136.75                           False              False                        False                True                                True               False                              True             False                                  True                 False                             True            False                             True            False                                 True                False               True              False               False                                  False                           False                        True\n",
       "4260              0        1           1      42             1           73.15       3088.25                           False              False                        False               False                               False               False                             False             False                                 False                  True                            False             True                            False             True                                False                 True               True              False               False                                  False                            True                       False"
      ]
     },
     "execution_count": 116,
     "metadata": {},
     "output_type": "execute_result"
    }
   ],
   "source": [
    "import joblib as jb\n",
    "\n",
    "X_train.head()"
   ]
  },
  {
   "cell_type": "code",
   "execution_count": null,
   "id": "a300e005",
   "metadata": {},
   "outputs": [],
   "source": []
  }
 ],
 "metadata": {
  "kernelspec": {
   "display_name": "Python (global-env)",
   "language": "python",
   "name": "global-env"
  },
  "language_info": {
   "codemirror_mode": {
    "name": "ipython",
    "version": 3
   },
   "file_extension": ".py",
   "mimetype": "text/x-python",
   "name": "python",
   "nbconvert_exporter": "python",
   "pygments_lexer": "ipython3",
   "version": "3.13.7"
  }
 },
 "nbformat": 4,
 "nbformat_minor": 5
}
